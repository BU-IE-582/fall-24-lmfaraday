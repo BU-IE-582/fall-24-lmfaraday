{
 "cells": [
  {
   "cell_type": "code",
   "execution_count": 1,
   "metadata": {},
   "outputs": [],
   "source": [
    "import pandas as pd \n",
    "import numpy as np \n",
    "import matplotlib.pyplot as plt \n",
    "import seaborn as sns \n",
    "from sklearn.preprocessing import StandardScaler \n",
    "from sklearn.decomposition import PCA \n",
    "from sklearn.model_selection import train_test_split \n",
    "import statsmodels.api as sm "
   ]
  },
  {
   "cell_type": "code",
   "execution_count": null,
   "metadata": {},
   "outputs": [],
   "source": [
    "real_ouput_data_loc = \"data/hw1_real.csv\" \n",
    "\n",
    "real_output_df = pd.read_csv(real_ouput_data_loc)\n",
    "\n",
    "img_output_data_loc = \"data/hw1_img.csv\" \n",
    "\n",
    "img_output_df = pd.read_csv(img_output_data_loc)\n",
    "\n",
    "output_df = np.sqrt(real_output_df **2 + img_output_df **2) \n",
    "\n",
    "output_df.head()"
   ]
  },
  {
   "cell_type": "code",
   "execution_count": null,
   "metadata": {},
   "outputs": [],
   "source": [
    "plt.figure(figsize=(12, 6))\n",
    "\n",
    "plt.plot(output_df.iloc[2], label=\"Magnitude\")\n",
    "plt.plot(real_output_df.iloc[2], label=\"Real part\")\n",
    "plt.plot(img_output_df.iloc[2], label=\"İmaginary part\")\n",
    "\n",
    "plt.title(\"S11 Parameter of the 3rd Sample\")\n",
    "plt.legend(loc=\"best\", fontsize=10)\n",
    "\n",
    "plt.xticks(range(0, 200, 25))\n",
    "plt.xlabel(\"Frequency\")\n",
    "plt.show()"
   ]
  },
  {
   "cell_type": "code",
   "execution_count": null,
   "metadata": {},
   "outputs": [],
   "source": [
    "plt.figure(figsize=(12, 6))\n",
    "\n",
    "for i in range(0,15):\n",
    "    plt.plot(output_df.iloc[i], label=f\"output {i}\")\n",
    "\n",
    "plt.legend(loc=\"best\", fontsize=6)\n",
    "\n",
    "plt.title(\"Magnitude of the first 15 outputs\")\n",
    "\n",
    "plt.xticks(range(0, 200, 25))\n",
    "plt.xlabel(\"Frequency\")\n",
    "plt.show()"
   ]
  },
  {
   "cell_type": "code",
   "execution_count": 5,
   "metadata": {},
   "outputs": [],
   "source": [
    "min_values_output = output_df.apply(lambda x: x.nsmallest(25).mean(), axis=1)\n",
    "min_values_index = output_df.idxmin(axis=1)\n",
    "\n",
    "min_values_real = real_output_df.apply(lambda x: x.nsmallest(25).mean(), axis=1)\n",
    "min_values_img = img_output_df.apply(lambda x: x.nsmallest(25).mean(), axis=1)"
   ]
  },
  {
   "cell_type": "code",
   "execution_count": null,
   "metadata": {},
   "outputs": [],
   "source": [
    "plt.figure(figsize=(12, 6))\n",
    "\n",
    "for i in range(0,10):\n",
    "    plt.plot(output_df.iloc[i], label=f\"output {i}\")\n",
    "    plt.scatter(min_values_index[i], min_values_output[i], color=\"red\")\n",
    "\n",
    "plt.legend(loc=\"best\", fontsize=6)\n",
    "plt.title(\"Magnitued of output 0 to 9 with their avg. minimum values\")\n",
    "plt.xticks(range(0, 200, 25))\n",
    "plt.xlabel(\"Frequency\")\n",
    "plt.show()"
   ]
  },
  {
   "cell_type": "code",
   "execution_count": null,
   "metadata": {},
   "outputs": [],
   "source": [
    "pca = PCA(n_components=1) \n",
    "\n",
    "principal_components = pca.fit_transform(output_df) \n",
    "\n",
    "explained_variance_df = pd.DataFrame({\n",
    "    'Standard deviation': np.sqrt(pca.explained_variance_),\n",
    "    'Proportion of Variance': pca.explained_variance_ratio_,\n",
    "}, index=[f'Comp.{i+1}' for i in range(len(pca.explained_variance_))])\n",
    "\n",
    "explained_variance_df"
   ]
  },
  {
   "cell_type": "code",
   "execution_count": null,
   "metadata": {},
   "outputs": [],
   "source": [
    "pca = PCA() \n",
    "\n",
    "principal_components = pca.fit_transform(output_df) \n",
    "\n",
    "explained_variance_df = pd.DataFrame({\n",
    "    'Standard deviation': np.sqrt(pca.explained_variance_),\n",
    "    'Proportion of Variance': pca.explained_variance_ratio_,\n",
    "    'Cumulative Proportion': np.cumsum(pca.explained_variance_ratio_)\n",
    "}, index=[f'Comp.{i+1}' for i in range(len(pca.explained_variance_))])\n",
    "\n",
    "explained_variance_df"
   ]
  },
  {
   "cell_type": "code",
   "execution_count": null,
   "metadata": {},
   "outputs": [],
   "source": [
    "pca = PCA(n_components=1) \n",
    "\n",
    "principal_components_real = pca.fit_transform(real_output_df) \n",
    "\n",
    "explained_variance_df = pd.DataFrame({\n",
    "    'Standard deviation': np.sqrt(pca.explained_variance_),\n",
    "    'Proportion of Variance': pca.explained_variance_ratio_,\n",
    "}, index=[f'Comp.{i+1}' for i in range(len(pca.explained_variance_))])\n",
    "\n",
    "explained_variance_df"
   ]
  },
  {
   "cell_type": "code",
   "execution_count": null,
   "metadata": {},
   "outputs": [],
   "source": [
    "pca = PCA() \n",
    "\n",
    "principal_components = pca.fit_transform(real_output_df) \n",
    "\n",
    "explained_variance_df = pd.DataFrame({\n",
    "    'Standard deviation': np.sqrt(pca.explained_variance_),\n",
    "    'Proportion of Variance': pca.explained_variance_ratio_,\n",
    "    'Cumulative Proportion': np.cumsum(pca.explained_variance_ratio_)\n",
    "}, index=[f'Comp.{i+1}' for i in range(len(pca.explained_variance_))])\n",
    "\n",
    "explained_variance_df"
   ]
  },
  {
   "cell_type": "code",
   "execution_count": null,
   "metadata": {},
   "outputs": [],
   "source": [
    "pca = PCA(n_components=1) \n",
    "\n",
    "principal_components_img = pca.fit_transform(img_output_df) \n",
    "\n",
    "explained_variance_df = pd.DataFrame({\n",
    "    'Standard deviation': np.sqrt(pca.explained_variance_),\n",
    "    'Proportion of Variance': pca.explained_variance_ratio_,\n",
    "}, index=[f'Comp.{i+1}' for i in range(len(pca.explained_variance_))])\n",
    "\n",
    "explained_variance_df"
   ]
  },
  {
   "cell_type": "code",
   "execution_count": null,
   "metadata": {},
   "outputs": [],
   "source": [
    "pca = PCA() \n",
    "\n",
    "principal_components = pca.fit_transform(img_output_df) \n",
    "\n",
    "explained_variance_df = pd.DataFrame({\n",
    "    'Standard deviation': np.sqrt(pca.explained_variance_),\n",
    "    'Proportion of Variance': pca.explained_variance_ratio_,\n",
    "    'Cumulative Proportion': np.cumsum(pca.explained_variance_ratio_)\n",
    "}, index=[f'Comp.{i+1}' for i in range(len(pca.explained_variance_))])\n",
    "\n",
    "explained_variance_df"
   ]
  },
  {
   "cell_type": "code",
   "execution_count": null,
   "metadata": {},
   "outputs": [],
   "source": [
    "input_data_loc = \"data/hw1_input.csv\"\n",
    "\n",
    "input_df = pd.read_csv(input_data_loc)\n",
    "\n",
    "input_df.head()"
   ]
  },
  {
   "cell_type": "code",
   "execution_count": null,
   "metadata": {},
   "outputs": [],
   "source": [
    "input_df.describe() "
   ]
  },
  {
   "cell_type": "code",
   "execution_count": null,
   "metadata": {},
   "outputs": [],
   "source": [
    "input_df.corr() "
   ]
  },
  {
   "cell_type": "code",
   "execution_count": null,
   "metadata": {},
   "outputs": [],
   "source": [
    "pair_plot = sns.pairplot(input_df, kind='scatter', diag_kind='kde', markers='o', plot_kws={'alpha':0.5}) \n",
    "\n",
    "plt.show()"
   ]
  },
  {
   "cell_type": "code",
   "execution_count": null,
   "metadata": {},
   "outputs": [],
   "source": [
    "plt.figure(figsize=(12, 6))\n",
    "\n",
    "plt.scatter(input_df[\"height of substrate\"], input_df[\"width of patch\"])\n",
    "\n",
    "plt.title(\"Width of Patch vs Height of Substrate\")\n",
    "plt.xlabel(\"Height of Substrate\")\n",
    "plt.ylabel(\"Width of Patch\")\n",
    "plt.show()"
   ]
  },
  {
   "cell_type": "code",
   "execution_count": 18,
   "metadata": {},
   "outputs": [],
   "source": [
    "input_df[\"width of patch combined with height of substrate\"] = np.where((input_df[\"width of patch\"] > 4) & (input_df[\"height of substrate\"] > 0.4), 1, 0)\n",
    "\n",
    "input_df.drop([\"width of patch\", \"height of substrate\"], axis=1, inplace=True)"
   ]
  },
  {
   "cell_type": "code",
   "execution_count": null,
   "metadata": {},
   "outputs": [],
   "source": [
    "color = {0: \"red\", 1: \"blue\"} \n",
    "\n",
    "plt.figure(figsize=(10, 6))\n",
    "plt.scatter(range(len(min_values_index)), min_values_output, \n",
    "            c=input_df[\"width of patch combined with height of substrate\"].map(color)) \n",
    "\n",
    "plt.title(\"Minimum Magnitudes with respect to width of patch combined with height of substrate\")\n",
    "plt.ylabel(\"Minimum Magnitudes\")\n",
    "plt.xticks([])\n",
    "plt.show()"
   ]
  },
  {
   "cell_type": "code",
   "execution_count": null,
   "metadata": {},
   "outputs": [],
   "source": [
    "scaler = StandardScaler() \n",
    "\n",
    "input_df_scaled = pd.DataFrame(scaler.fit_transform(input_df), columns=input_df.columns) \n",
    "\n",
    "input_df_scaled.head()"
   ]
  },
  {
   "cell_type": "code",
   "execution_count": null,
   "metadata": {},
   "outputs": [],
   "source": [
    "input_df_scaled.corrwith(min_values_output).sort_values(ascending=False)"
   ]
  },
  {
   "cell_type": "code",
   "execution_count": 22,
   "metadata": {},
   "outputs": [],
   "source": [
    "pca_df = input_df_scaled.copy()\n",
    "\n",
    "pca_df.drop(\"width of patch combined with height of substrate\", axis=1, inplace=True) "
   ]
  },
  {
   "cell_type": "code",
   "execution_count": null,
   "metadata": {},
   "outputs": [],
   "source": [
    "pca = PCA() \n",
    "\n",
    "principal_components = pca.fit(pca_df) \n",
    "\n",
    "explained_variance_df = pd.DataFrame({\n",
    "    'Standard deviation': np.sqrt(pca.explained_variance_),\n",
    "    'Proportion of Variance': pca.explained_variance_ratio_,\n",
    "    'Cumulative Proportion': np.cumsum(pca.explained_variance_ratio_)\n",
    "}, index=[f'Comp.{i+1}' for i in range(len(pca.explained_variance_))])\n",
    "\n",
    "explained_variance_df"
   ]
  },
  {
   "cell_type": "code",
   "execution_count": null,
   "metadata": {},
   "outputs": [],
   "source": [
    "loadings_df = pd.DataFrame(pca.components_.T, columns=[f'Comp.{i+1}' for i in range(len(pca.explained_variance_))], index=pca_df.columns)\n",
    "\n",
    "loadings_df"
   ]
  },
  {
   "cell_type": "code",
   "execution_count": null,
   "metadata": {},
   "outputs": [],
   "source": [
    "explained_variance = explained_variance_df[\"Proportion of Variance\"]\n",
    "\n",
    "plt.figure(figsize=(8, 6))\n",
    "plt.plot(range(1, len(explained_variance) + 1), explained_variance, marker='o', linestyle='--', color='b')\n",
    "plt.axhline(y=0.1, color='r', linestyle='--') \n",
    "\n",
    "plt.title(\"Explained Variance of Principal Components\")\n",
    "plt.xlabel('Principal Components')\n",
    "plt.ylabel('Variance Explained')\n",
    "plt.xticks(range(1, len(explained_variance) + 1))\n",
    "plt.grid()\n",
    "plt.show()"
   ]
  },
  {
   "cell_type": "code",
   "execution_count": null,
   "metadata": {},
   "outputs": [],
   "source": [
    "cumulative_variance = explained_variance_df[\"Cumulative Proportion\"]\n",
    "\n",
    "plt.figure(figsize=(8, 6))\n",
    "plt.plot(range(1, len(cumulative_variance) + 1), cumulative_variance, marker='o', linestyle='--', color='b')\n",
    "plt.axhline(y=0.8, color='r', linestyle='--')  \n",
    "\n",
    "plt.title('Cumulative Explained Variance of Principal Components')\n",
    "plt.xlabel('Principal Components')\n",
    "plt.ylabel('Variance Explained')\n",
    "plt.xticks(range(1, len(cumulative_variance) + 1))\n",
    "plt.grid()\n",
    "plt.show()"
   ]
  },
  {
   "cell_type": "code",
   "execution_count": null,
   "metadata": {},
   "outputs": [],
   "source": [
    "transformed_input_df = pd.DataFrame(pca.transform(pca_df), columns=[f'PC{i+1}' for i in range(len(pca.explained_variance_))]) \n",
    "\n",
    "transformed_input_df.drop(columns=[\"PC9\", \"PC8\"], inplace=True, axis=1) \n",
    "\n",
    "transformed_input_df[\"width of patch combined with height of substrate\"] = input_df_scaled[\"width of patch combined with height of substrate\"] \n",
    "\n",
    "transformed_input_df.head()"
   ]
  },
  {
   "cell_type": "code",
   "execution_count": null,
   "metadata": {},
   "outputs": [],
   "source": [
    "X_train_transformed, X_test_transformed, y_train_min_real, y_test_min_real = train_test_split(transformed_input_df, min_values_real, test_size=0.2, random_state=5)\n",
    "X_train, X_test, y_train_pca, y_test_pca = train_test_split(input_df_scaled, principal_components_real, test_size=0.2, random_state=5)\n",
    "\n",
    "X_train_transformed = sm.add_constant(X_train_transformed)\n",
    "X_train = sm.add_constant(X_train)\n",
    "\n",
    "model_1 = sm.OLS(y_train_min_real, X_train).fit()\n",
    "model_2 = sm.OLS(y_train_min_real, X_train_transformed).fit()\n",
    "model_3 = sm.OLS(y_train_pca, X_train).fit()\n",
    "model_4 = sm.OLS(y_train_pca, X_train_transformed).fit()\n",
    "\n",
    "\n",
    "comparison_df = pd.DataFrame({\n",
    "    'Model': ['Min Real Values + Original Input', 'Min Real Values + PCA Components', 'PCA Real Values + Original Input', 'PCA Real Values + PCA Components'],\n",
    "    'Adjusted R-squared': [model_1.rsquared_adj, model_2.rsquared_adj, model_3.rsquared_adj, model_4.rsquared_adj],\n",
    "    'AIC': [model_1.aic, model_2.aic, model_3.aic, model_4.aic],\n",
    "    'BIC': [model_1.bic, model_2.bic, model_3.bic, model_4.bic],\n",
    "})\n",
    "\n",
    "comparison_df_transposed = comparison_df.T\n",
    "comparison_df_transposed = comparison_df.set_index('Model').T\n",
    "\n",
    "comparison_df_transposed"
   ]
  },
  {
   "cell_type": "code",
   "execution_count": null,
   "metadata": {},
   "outputs": [],
   "source": [
    "plt.figure(figsize=(12, 6))\n",
    "\n",
    "plt.scatter(y_train_pca, model_3.predict(X_train), c=\"red\")\n",
    "\n",
    "plt.plot(y_train_pca, y_train_pca, color=\"blue\")\n",
    "\n",
    "plt.xlabel(\"Actual values\")\n",
    "plt.ylabel(\"Predicted values\")\n",
    "plt.title(\"Predicted vs Actual values\")\n",
    "plt.show()"
   ]
  },
  {
   "cell_type": "code",
   "execution_count": null,
   "metadata": {},
   "outputs": [],
   "source": [
    "X_train_transformed, X_test_transformed, y_train_min_real, y_test_min_real = train_test_split(transformed_input_df, min_values_img, test_size=0.2, random_state=16)\n",
    "X_train, X_test, y_train_pca, y_test_pca = train_test_split(input_df_scaled, principal_components_img, test_size=0.2, random_state=16)\n",
    "\n",
    "X_train_transformed = sm.add_constant(X_train_transformed)\n",
    "X_train = sm.add_constant(X_train)\n",
    "\n",
    "model_1 = sm.OLS(y_train_min_real, X_train).fit()\n",
    "model_2 = sm.OLS(y_train_min_real, X_train_transformed).fit()\n",
    "model_3 = sm.OLS(y_train_pca, X_train).fit()\n",
    "model_4 = sm.OLS(y_train_pca, X_train_transformed).fit()\n",
    "\n",
    "\n",
    "comparison_df = pd.DataFrame({\n",
    "    'Model': ['Min Img. Values + Original Input', 'Min Img. Values + PCA Components', 'PCA Img. Values + Original Input', 'PCA Img. Values + PCA Components'],\n",
    "    'Adjusted R-squared': [model_1.rsquared_adj, model_2.rsquared_adj, model_3.rsquared_adj, model_4.rsquared_adj],\n",
    "    'AIC': [model_1.aic, model_2.aic, model_3.aic, model_4.aic],\n",
    "    'BIC': [model_1.bic, model_2.bic, model_3.bic, model_4.bic],\n",
    "})\n",
    "\n",
    "comparison_df_transposed = comparison_df.T\n",
    "comparison_df_transposed = comparison_df.set_index('Model').T\n",
    "\n",
    "comparison_df_transposed"
   ]
  },
  {
   "cell_type": "code",
   "execution_count": null,
   "metadata": {},
   "outputs": [],
   "source": [
    "plt.figure(figsize=(12, 6))\n",
    "\n",
    "plt.scatter(y_train_pca, model_3.predict(X_train), c=\"red\")\n",
    "\n",
    "plt.plot(y_train_pca, y_train_pca, color=\"blue\")\n",
    "\n",
    "plt.xlabel(\"Actual values\")\n",
    "plt.ylabel(\"Predicted values\")\n",
    "plt.title(\"Predicted vs Actual values\")\n",
    "plt.show()"
   ]
  },
  {
   "cell_type": "markdown",
   "metadata": {},
   "source": []
  }
 ],
 "metadata": {
  "kernelspec": {
   "display_name": "Python 3",
   "language": "python",
   "name": "python3"
  },
  "language_info": {
   "codemirror_mode": {
    "name": "ipython",
    "version": 3
   },
   "file_extension": ".py",
   "mimetype": "text/x-python",
   "name": "python",
   "nbconvert_exporter": "python",
   "pygments_lexer": "ipython3",
   "version": "3.12.3"
  }
 },
 "nbformat": 4,
 "nbformat_minor": 2
}
